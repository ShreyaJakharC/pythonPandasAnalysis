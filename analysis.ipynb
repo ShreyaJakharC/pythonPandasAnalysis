{
 "cells": [
  {
   "cell_type": "markdown",
   "metadata": {},
   "source": [
    "# pandas exploration\n",
    "In this assignment you will select a data set and do some munging and analysis of it using `pandas`, Jupyter Notebooks, and associated Python-centric data science tools."
   ]
  },
  {
   "cell_type": "markdown",
   "metadata": {},
   "source": [
    "Import the core data science libraries:"
   ]
  },
  {
   "cell_type": "code",
   "execution_count": null,
   "metadata": {},
   "outputs": [],
   "source": [
    "%matplotlib inline\n",
    "import matplotlib.pyplot as plt\n",
    "import numpy as np\n",
    "import pandas as pd"
   ]
  },
  {
   "cell_type": "markdown",
   "metadata": {},
   "source": [
    "## Import the raw data\n",
    "In this section, you will import the raw data into a `pandas` DataFrame."
   ]
  },
  {
   "cell_type": "code",
   "execution_count": null,
   "metadata": {},
   "outputs": [],
   "source": [
    "# place your code into this Code cell\n",
    "df = pd.read_csv('./readme.txt')"
   ]
  },
  {
   "cell_type": "markdown",
   "metadata": {},
   "source": [
    "## Data inspection\n",
    "In this section, you will show enough of your data for a viewer to get a general sense of how the data is structured and any unique features of it.  Complete each of the indicated tasks in a Code cell, making sure to include a Markdown cell above each Code cell that explains what is being shown by the code.  \n",
    "- Show 5 rows, selected at random, from the data set.\n",
    "- Show each of the column names and their data types.\n",
    "- Show any unique features of your chosen data set.\n",
    "\n",
    "Feel free to add as many additional cells as you need to help explain the raw data."
   ]
  },
  {
   "cell_type": "code",
   "execution_count": null,
   "metadata": {},
   "outputs": [],
   "source": [
    "# Shows the data in the data set.\n",
    "df"
   ]
  },
  {
   "cell_type": "code",
   "execution_count": null,
   "metadata": {},
   "outputs": [],
   "source": [
    "# shows 5 rows selected randomly from the data set.\n",
    "df.sample(5)"
   ]
  },
  {
   "cell_type": "code",
   "execution_count": null,
   "metadata": {},
   "outputs": [],
   "source": [
    "# shows \n",
    "df.info()"
   ]
  },
  {
   "attachments": {},
   "cell_type": "markdown",
   "metadata": {},
   "source": [
    "The unique feautre of my data is that it has the highest and the lowest size of the class for each of the school. "
   ]
  },
  {
   "cell_type": "markdown",
   "metadata": {},
   "source": [
    "## Data munging\n",
    "Place your **data munging** code and documentation within this section.  \n",
    "- Keep each of your Code cells short and focused on a single task.  \n",
    "- Include a Markdown cell above each code cell that describes what task the code within the code cell is performing.\n",
    "- Make as many code cells as you need to complete the munging - a few have been created for you to start with.\n",
    "- Display 5 sample rows of the modified data after each transformation so a viewer can see how the data has changed.\n",
    "\n",
    "**Note**: If you believe that your data set does not require any munging, please explain in detail.  Create Markdown cells that explain your thinking and create Code cells that show any specific structures of the data you refer to in your explanation."
   ]
  },
  {
   "attachments": {},
   "cell_type": "markdown",
   "metadata": {},
   "source": [
    "Step 1: I am deleting the columns that do not have the complete information(incomplete inforamtion submitted by the schools)"
   ]
  },
  {
   "cell_type": "code",
   "execution_count": null,
   "metadata": {},
   "outputs": [],
   "source": [
    "df1 = df.drop([\"CSD\",\"PROGRAM TYPE\",\"CORE SUBJECT (MS CORE and 9-12 ONLY)\",\"CORE COURSE (MS CORE and 9-12 ONLY)\",\"SERVICE CATEGORY(K-9* ONLY)\", \"DATA SOURCE\",\"SCHOOLWIDE PUPIL-TEACHER RATIO\"], axis = 1)\n",
    "df1.head(2)"
   ]
  },
  {
   "attachments": {},
   "cell_type": "markdown",
   "metadata": {},
   "source": [
    "Step 2: Deleting the exisiting rows with missing inforamtion for better analysis."
   ]
  },
  {
   "cell_type": "code",
   "execution_count": null,
   "metadata": {},
   "outputs": [],
   "source": [
    "df2 = df1.dropna()\n",
    "df2.head(2)"
   ]
  },
  {
   "attachments": {},
   "cell_type": "markdown",
   "metadata": {},
   "source": [
    "Step 3: Changing column name."
   ]
  },
  {
   "cell_type": "code",
   "execution_count": null,
   "metadata": {},
   "outputs": [],
   "source": [
    "df3 = df2.rename(columns={'NUMBER OF STUDENTS / SEATS FILLED': 'NUMBER OF STUDENTS'})\n",
    "df3.head(2)"
   ]
  },
  {
   "cell_type": "markdown",
   "metadata": {},
   "source": [
    "## Data analysis\n",
    "Place your **data analysis** code and documentation within this section.\n",
    "- Perform at least 5 different statistical or other analyses of different aspects of the data.\n",
    "    - Your analyses must be specific and relevant to your chosen data set and show interesting aspects of it.\n",
    "    - Include at least one analysis that includes grouping rows by a shared attribute and performing some kind of statistical analysis on each group.\n",
    "    - Sort the data in at least 1 of your analyses, but sort on its own does not constitute an analysis on its own.\n",
    "- Keep each of your Code cells short and focused on a single task.\n",
    "- Include a Markdown cell above each Code cell that describes what task the code within the Code cell is performing.\n",
    "- Make as many code cells as you need to complete the analysis - a few have been created for you to start with."
   ]
  },
  {
   "cell_type": "code",
   "execution_count": null,
   "metadata": {},
   "outputs": [],
   "source": []
  },
  {
   "cell_type": "code",
   "execution_count": null,
   "metadata": {},
   "outputs": [],
   "source": []
  },
  {
   "cell_type": "code",
   "execution_count": null,
   "metadata": {},
   "outputs": [],
   "source": []
  },
  {
   "cell_type": "markdown",
   "metadata": {},
   "source": [
    "## Data visualization\n",
    "In this section, you will create a few **visualizations** that show some of the insights you have gathered from this data.\n",
    "- Create at least 5 different visualizations, where each visualization shows different insights into the data.\n",
    "- Use at least 3 different visualization types (e.g. bar charts, line charts, stacked area charts, pie charts, etc)\n",
    "- Create a Markdown cell and a Code cell for each, where you explain and show the visualizations, respectively.\n",
    "- Create as many additional cells as you need to prepare the data for the visualizations."
   ]
  },
  {
   "cell_type": "code",
   "execution_count": null,
   "metadata": {},
   "outputs": [],
   "source": []
  },
  {
   "cell_type": "code",
   "execution_count": null,
   "metadata": {},
   "outputs": [],
   "source": []
  }
 ],
 "metadata": {
  "kernelspec": {
   "display_name": "Python 3",
   "language": "python",
   "name": "python3"
  },
  "language_info": {
   "codemirror_mode": {
    "name": "ipython",
    "version": 3
   },
   "file_extension": ".py",
   "mimetype": "text/x-python",
   "name": "python",
   "nbconvert_exporter": "python",
   "pygments_lexer": "ipython3",
   "version": "3.8.5"
  }
 },
 "nbformat": 4,
 "nbformat_minor": 4
}
